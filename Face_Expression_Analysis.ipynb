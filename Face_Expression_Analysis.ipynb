{
  "nbformat": 4,
  "nbformat_minor": 0,
  "metadata": {
    "colab": {
      "name": "Face Expression Analysis.ipynb",
      "provenance": []
    },
    "kernelspec": {
      "name": "python3",
      "display_name": "Python 3"
    },
    "language_info": {
      "name": "python"
    }
  },
  "cells": [
    {
      "cell_type": "code",
      "metadata": {
        "id": "wCuFgqtLxQdI"
      },
      "source": [
        "import pandas as pd\n",
        "import numpy as np\n",
        "import tensorflow as tf\n",
        "from tensorflow.keras.preprocessing.image import ImageDataGenerator\n",
        "from keras.models import Sequential\n",
        "from keras.models import Sequential, load_model\n",
        "from keras.layers import Conv2D, Dense, Flatten, Dropout, MaxPool2D\n",
        "from sklearn.model_selection import train_test_split\n",
        "import zipfile,os\n",
        "from google.colab import drive"
      ],
      "execution_count": null,
      "outputs": []
    },
    {
      "cell_type": "code",
      "metadata": {
        "id": "pbwSlT6FxcBW",
        "colab": {
          "base_uri": "https://localhost:8080/"
        },
        "outputId": "cb293dc8-7cb6-4041-856d-06d43e43af03"
      },
      "source": [
        "drive.mount('/content/drive')"
      ],
      "execution_count": null,
      "outputs": [
        {
          "output_type": "stream",
          "name": "stdout",
          "text": [
            "Drive already mounted at /content/drive; to attempt to forcibly remount, call drive.mount(\"/content/drive\", force_remount=True).\n"
          ]
        }
      ]
    },
    {
      "cell_type": "code",
      "metadata": {
        "id": "Z4yrMNhu4aql"
      },
      "source": [
        "## Load the data\n",
        "train_df = \"/content/drive/MyDrive/Ekspresi Wajah/train\"\n",
        "test_df = \"/content/drive/MyDrive/Ekspresi Wajah/test\""
      ],
      "execution_count": null,
      "outputs": []
    },
    {
      "cell_type": "code",
      "metadata": {
        "colab": {
          "base_uri": "https://localhost:8080/"
        },
        "id": "H_W3kS8z_3A4",
        "outputId": "eb3091dd-aae9-4b67-ad36-f3c62b0c1755"
      },
      "source": [
        "os.listdir('/content/drive/MyDrive/Ekspresi Wajah/train')"
      ],
      "execution_count": null,
      "outputs": [
        {
          "output_type": "execute_result",
          "data": {
            "text/plain": [
              "['angry', 'disgust', 'fear', 'happy', 'neutral', 'sad', 'surprise']"
            ]
          },
          "metadata": {},
          "execution_count": 4
        }
      ]
    },
    {
      "cell_type": "code",
      "metadata": {
        "colab": {
          "base_uri": "https://localhost:8080/"
        },
        "id": "XVMxV_q-_4SZ",
        "outputId": "48d8d175-18db-433e-cfd9-b23970d79692"
      },
      "source": [
        "os.listdir('/content/drive/MyDrive/Ekspresi Wajah/test')"
      ],
      "execution_count": null,
      "outputs": [
        {
          "output_type": "execute_result",
          "data": {
            "text/plain": [
              "['angry', 'disgust', 'fear', 'happy', 'neutral', 'sad', 'surprise']"
            ]
          },
          "metadata": {},
          "execution_count": 5
        }
      ]
    },
    {
      "cell_type": "code",
      "metadata": {
        "id": "rryrcwjLDPUB"
      },
      "source": [
        "train_datagen = ImageDataGenerator(\n",
        "                    rescale=1./255,\n",
        "                    rotation_range=20,\n",
        "                    horizontal_flip=True,\n",
        "                    shear_range = 0.2,\n",
        "                    fill_mode = 'nearest')\n",
        " \n",
        "test_datagen = ImageDataGenerator(\n",
        "                    rescale=1./255)"
      ],
      "execution_count": null,
      "outputs": []
    },
    {
      "cell_type": "code",
      "metadata": {
        "colab": {
          "base_uri": "https://localhost:8080/"
        },
        "id": "Jvf7Da6HDSIP",
        "outputId": "5ea00f73-c291-44a1-c9e9-0aac703074c1"
      },
      "source": [
        "train_generator = train_datagen.flow_from_directory(\n",
        "        train_df,\n",
        "        target_size=(150, 150),  # mengubah resolusi seluruh gambar menjadi 150x150 piksel\n",
        "        batch_size=4,\n",
        "        # karena ini merupakan masalah klasifikasi 2 kelas, gunakan class_mode = 'binary'\n",
        "        class_mode='categorical')\n",
        " \n",
        "validation_generator = test_datagen.flow_from_directory(\n",
        "        test_df,\n",
        "        target_size=(150, 150), # mengubah resolusi seluruh gambar menjadi 150x150 piksel\n",
        "        batch_size=4, # karena ini merupakan masalah klasifikasi 2 kelas gunakan class_mode = 'binary'\n",
        "        class_mode='categorical')"
      ],
      "execution_count": null,
      "outputs": [
        {
          "output_type": "stream",
          "name": "stdout",
          "text": [
            "Found 28709 images belonging to 7 classes.\n",
            "Found 7178 images belonging to 7 classes.\n"
          ]
        }
      ]
    },
    {
      "cell_type": "code",
      "metadata": {
        "id": "9xjJQ1u0D02r"
      },
      "source": [
        "class myCallback(tf.keras.callbacks.Callback):\n",
        "  def on_epoch_end(self, epoch, logs={}):\n",
        "    if(logs.get('accuracy') > 0.96):\n",
        "      print(\"\\nAkurasi telah mencapai >96%. Stop training!\")\n",
        "      self.model.stop_training = True\n",
        "callbacks = myCallback()"
      ],
      "execution_count": null,
      "outputs": []
    },
    {
      "cell_type": "code",
      "metadata": {
        "id": "7FlFuhxPHBhI"
      },
      "source": [
        "model = tf.keras.models.Sequential([\n",
        "    tf.keras.layers.Conv2D(32, (3,3), activation='relu', input_shape=(150, 150, 3)),\n",
        "    tf.keras.layers.MaxPooling2D(2, 2),\n",
        "    tf.keras.layers.Conv2D(64, (3,3), activation='relu'),\n",
        "    tf.keras.layers.MaxPooling2D(2,2),\n",
        "    tf.keras.layers.Conv2D(128, (3,3), activation='relu'),\n",
        "    tf.keras.layers.MaxPooling2D(2,2),\n",
        "    tf.keras.layers.Conv2D(128, (3,3), activation='relu'),\n",
        "    tf.keras.layers.MaxPooling2D(2,2),\n",
        "    tf.keras.layers.Flatten(),\n",
        "    tf.keras.layers.Dense(512, activation='relu'),\n",
        "    tf.keras.layers.Dense(1, activation='sigmoid')\n",
        "])"
      ],
      "execution_count": null,
      "outputs": []
    },
    {
      "cell_type": "code",
      "metadata": {
        "colab": {
          "base_uri": "https://localhost:8080/"
        },
        "id": "hFj3bLM0HI7I",
        "outputId": "32ea1b22-399f-4840-9466-e843388dfca5"
      },
      "source": [
        "model.summary"
      ],
      "execution_count": null,
      "outputs": [
        {
          "output_type": "execute_result",
          "data": {
            "text/plain": [
              "<bound method Model.summary of <keras.engine.sequential.Sequential object at 0x7fc804f94c50>>"
            ]
          },
          "metadata": {},
          "execution_count": 10
        }
      ]
    },
    {
      "cell_type": "code",
      "metadata": {
        "id": "9bNdLFprDu2w"
      },
      "source": [
        "# compile model dengan 'adam' optimizer loss function 'binary_crossentropy' \n",
        "model.compile(loss='binary_crossentropy',\n",
        "              optimizer=tf.optimizers.Adam(),\n",
        "              metrics=['accuracy'])"
      ],
      "execution_count": null,
      "outputs": []
    },
    {
      "cell_type": "code",
      "metadata": {
        "colab": {
          "base_uri": "https://localhost:8080/"
        },
        "id": "wroPTdoqHTo-",
        "outputId": "044becd5-757e-44d5-c4ea-9764a0923037"
      },
      "source": [
        "# latih model dengan model.fit \n",
        "model.fit(\n",
        "      train_generator,\n",
        "      steps_per_epoch=25,\n",
        "      epochs=20,\n",
        "      validation_data=validation_generator,\n",
        "      validation_steps=5,\n",
        "      verbose=2)"
      ],
      "execution_count": null,
      "outputs": [
        {
          "output_type": "stream",
          "name": "stdout",
          "text": [
            "Epoch 1/20\n",
            "25/25 - 56s - loss: 0.4325 - accuracy: 0.8571 - val_loss: 0.4150 - val_accuracy: 0.8571 - 56s/epoch - 2s/step\n",
            "Epoch 2/20\n",
            "25/25 - 56s - loss: 0.4135 - accuracy: 0.8571 - val_loss: 0.4120 - val_accuracy: 0.8571 - 56s/epoch - 2s/step\n",
            "Epoch 3/20\n",
            "25/25 - 58s - loss: 0.4115 - accuracy: 0.8571 - val_loss: 0.4108 - val_accuracy: 0.8571 - 58s/epoch - 2s/step\n",
            "Epoch 4/20\n",
            "25/25 - 56s - loss: 0.4106 - accuracy: 0.8571 - val_loss: 0.4110 - val_accuracy: 0.8571 - 56s/epoch - 2s/step\n",
            "Epoch 5/20\n",
            "25/25 - 54s - loss: 0.4104 - accuracy: 0.8571 - val_loss: 0.4103 - val_accuracy: 0.8571 - 54s/epoch - 2s/step\n",
            "Epoch 6/20\n",
            "25/25 - 58s - loss: 0.4102 - accuracy: 0.8571 - val_loss: 0.4103 - val_accuracy: 0.8571 - 58s/epoch - 2s/step\n",
            "Epoch 7/20\n",
            "25/25 - 54s - loss: 0.4102 - accuracy: 0.8571 - val_loss: 0.4101 - val_accuracy: 0.8571 - 54s/epoch - 2s/step\n",
            "Epoch 8/20\n",
            "25/25 - 56s - loss: 0.4102 - accuracy: 0.8571 - val_loss: 0.4101 - val_accuracy: 0.8571 - 56s/epoch - 2s/step\n",
            "Epoch 9/20\n",
            "25/25 - 53s - loss: 0.4101 - accuracy: 0.8571 - val_loss: 0.4101 - val_accuracy: 0.8571 - 53s/epoch - 2s/step\n",
            "Epoch 10/20\n",
            "25/25 - 53s - loss: 0.4101 - accuracy: 0.8571 - val_loss: 0.4101 - val_accuracy: 0.8571 - 53s/epoch - 2s/step\n",
            "Epoch 11/20\n",
            "25/25 - 54s - loss: 0.4101 - accuracy: 0.8571 - val_loss: 0.4101 - val_accuracy: 0.8571 - 54s/epoch - 2s/step\n",
            "Epoch 12/20\n",
            "25/25 - 55s - loss: 0.4101 - accuracy: 0.8571 - val_loss: 0.4102 - val_accuracy: 0.8571 - 55s/epoch - 2s/step\n",
            "Epoch 13/20\n",
            "25/25 - 56s - loss: 0.4101 - accuracy: 0.8571 - val_loss: 0.4101 - val_accuracy: 0.8571 - 56s/epoch - 2s/step\n",
            "Epoch 14/20\n",
            "25/25 - 54s - loss: 0.4101 - accuracy: 0.8571 - val_loss: 0.4101 - val_accuracy: 0.8571 - 54s/epoch - 2s/step\n",
            "Epoch 15/20\n",
            "25/25 - 52s - loss: 0.4101 - accuracy: 0.8571 - val_loss: 0.4101 - val_accuracy: 0.8571 - 52s/epoch - 2s/step\n",
            "Epoch 16/20\n",
            "25/25 - 54s - loss: 0.4101 - accuracy: 0.8571 - val_loss: 0.4102 - val_accuracy: 0.8571 - 54s/epoch - 2s/step\n",
            "Epoch 17/20\n",
            "25/25 - 54s - loss: 0.4101 - accuracy: 0.8571 - val_loss: 0.4101 - val_accuracy: 0.8571 - 54s/epoch - 2s/step\n",
            "Epoch 18/20\n",
            "25/25 - 54s - loss: 0.4101 - accuracy: 0.8571 - val_loss: 0.4101 - val_accuracy: 0.8571 - 54s/epoch - 2s/step\n",
            "Epoch 19/20\n",
            "25/25 - 55s - loss: 0.4101 - accuracy: 0.8571 - val_loss: 0.4101 - val_accuracy: 0.8571 - 55s/epoch - 2s/step\n",
            "Epoch 20/20\n",
            "25/25 - 53s - loss: 0.4101 - accuracy: 0.8571 - val_loss: 0.4101 - val_accuracy: 0.8571 - 53s/epoch - 2s/step\n"
          ]
        },
        {
          "output_type": "execute_result",
          "data": {
            "text/plain": [
              "<keras.callbacks.History at 0x7fc8066e7b10>"
            ]
          },
          "metadata": {},
          "execution_count": 12
        }
      ]
    }
  ]
}