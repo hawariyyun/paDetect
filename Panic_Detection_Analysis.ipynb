{
  "nbformat": 4,
  "nbformat_minor": 0,
  "metadata": {
    "colab": {
      "name": "Panic Detection Analysis.ipynb",
      "provenance": [],
      "collapsed_sections": []
    },
    "kernelspec": {
      "name": "python3",
      "display_name": "Python 3"
    },
    "language_info": {
      "name": "python"
    }
  },
  "cells": [
    {
      "cell_type": "code",
      "metadata": {
        "id": "wCuFgqtLxQdI"
      },
      "source": [
        "import pandas as pd\n",
        "import numpy as np\n",
        "import tensorflow as tf\n",
        "from tensorflow.keras.preprocessing.image import ImageDataGenerator\n",
        "from keras.models import Sequential\n",
        "from keras.models import Sequential, load_model\n",
        "from keras.layers import Conv2D, Dense, Flatten, Dropout, MaxPool2D\n",
        "from sklearn.model_selection import train_test_split\n",
        "import zipfile,os\n",
        "from google.colab import drive"
      ],
      "execution_count": 1,
      "outputs": []
    },
    {
      "cell_type": "code",
      "metadata": {
        "id": "pbwSlT6FxcBW",
        "colab": {
          "base_uri": "https://localhost:8080/"
        },
        "outputId": "94c29461-67cc-4017-df8b-d1230fd6edc5"
      },
      "source": [
        "drive.mount('/content/drive')"
      ],
      "execution_count": 2,
      "outputs": [
        {
          "output_type": "stream",
          "name": "stdout",
          "text": [
            "Mounted at /content/drive\n"
          ]
        }
      ]
    },
    {
      "cell_type": "code",
      "metadata": {
        "id": "Z4yrMNhu4aql"
      },
      "source": [
        "## Load the data\n",
        "train_df = \"/content/drive/MyDrive/Face Recognition/train\"\n",
        "test_df = \"/content/drive/MyDrive/Face Recognition/test\""
      ],
      "execution_count": 3,
      "outputs": []
    },
    {
      "cell_type": "code",
      "metadata": {
        "colab": {
          "base_uri": "https://localhost:8080/"
        },
        "id": "H_W3kS8z_3A4",
        "outputId": "9338515a-1e11-4c67-b048-7e739af9404b"
      },
      "source": [
        "os.listdir('/content/drive/MyDrive/Face Recognition/train')"
      ],
      "execution_count": 4,
      "outputs": [
        {
          "output_type": "execute_result",
          "data": {
            "text/plain": [
              "['panicked', 'notpanicked']"
            ]
          },
          "metadata": {},
          "execution_count": 4
        }
      ]
    },
    {
      "cell_type": "code",
      "metadata": {
        "colab": {
          "base_uri": "https://localhost:8080/"
        },
        "id": "XVMxV_q-_4SZ",
        "outputId": "9bb1a29f-16e0-4d90-a128-7aa654e4ea62"
      },
      "source": [
        "os.listdir('/content/drive/MyDrive/Face Recognition/test')"
      ],
      "execution_count": 5,
      "outputs": [
        {
          "output_type": "execute_result",
          "data": {
            "text/plain": [
              "['notpanicked', 'panicked']"
            ]
          },
          "metadata": {},
          "execution_count": 5
        }
      ]
    },
    {
      "cell_type": "code",
      "metadata": {
        "id": "rryrcwjLDPUB"
      },
      "source": [
        "train_datagen = ImageDataGenerator(\n",
        "                    rescale=1./255,\n",
        "                    rotation_range=20,\n",
        "                    horizontal_flip=True,\n",
        "                    shear_range = 0.2,\n",
        "                    fill_mode = 'nearest')\n",
        " \n",
        "test_datagen = ImageDataGenerator(\n",
        "                    rescale=1./255)"
      ],
      "execution_count": 6,
      "outputs": []
    },
    {
      "cell_type": "code",
      "metadata": {
        "colab": {
          "base_uri": "https://localhost:8080/"
        },
        "id": "Jvf7Da6HDSIP",
        "outputId": "7d9a3eef-a912-40fa-c915-257f427a136a"
      },
      "source": [
        "train_generator = train_datagen.flow_from_directory(\n",
        "        train_df,\n",
        "        target_size=(150, 150),\n",
        "        batch_size=4,\n",
        "        class_mode='binary')\n",
        " \n",
        "validation_generator = test_datagen.flow_from_directory(\n",
        "        test_df,\n",
        "        target_size=(150, 150),\n",
        "        batch_size=4,\n",
        "        class_mode='binary')"
      ],
      "execution_count": 7,
      "outputs": [
        {
          "output_type": "stream",
          "name": "stdout",
          "text": [
            "Found 24714 images belonging to 2 classes.\n",
            "Found 7178 images belonging to 2 classes.\n"
          ]
        }
      ]
    },
    {
      "cell_type": "code",
      "metadata": {
        "id": "9xjJQ1u0D02r"
      },
      "source": [
        "class myCallback(tf.keras.callbacks.Callback):\n",
        "  def on_epoch_end(self, epoch, logs={}):\n",
        "    if(logs.get('accuracy') > 0.96):\n",
        "      print(\"\\nAkurasi telah mencapai >96%. Stop training!\")\n",
        "      self.model.stop_training = True\n",
        "callbacks = myCallback()"
      ],
      "execution_count": 8,
      "outputs": []
    },
    {
      "cell_type": "code",
      "metadata": {
        "id": "7FlFuhxPHBhI"
      },
      "source": [
        "model = tf.keras.models.Sequential([\n",
        "    tf.keras.layers.Conv2D(32, (3,3), activation='relu', input_shape=(150, 150, 3)),\n",
        "    tf.keras.layers.MaxPooling2D(2, 2),\n",
        "    tf.keras.layers.Conv2D(64, (3,3), activation='relu'),\n",
        "    tf.keras.layers.MaxPooling2D(2,2),\n",
        "    tf.keras.layers.Conv2D(128, (3,3), activation='relu'),\n",
        "    tf.keras.layers.MaxPooling2D(2,2),\n",
        "    tf.keras.layers.Conv2D(128, (3,3), activation='relu'),\n",
        "    tf.keras.layers.MaxPooling2D(2,2),\n",
        "    tf.keras.layers.Flatten(),\n",
        "    tf.keras.layers.Dense(512, activation='relu'),\n",
        "    tf.keras.layers.Dense(1, activation='sigmoid')\n",
        "])"
      ],
      "execution_count": 9,
      "outputs": []
    },
    {
      "cell_type": "code",
      "metadata": {
        "id": "hFj3bLM0HI7I",
        "colab": {
          "base_uri": "https://localhost:8080/"
        },
        "outputId": "3b2f7284-76b1-4043-88e1-908db2d6a4ee"
      },
      "source": [
        "model.summary"
      ],
      "execution_count": 10,
      "outputs": [
        {
          "output_type": "execute_result",
          "data": {
            "text/plain": [
              "<bound method Model.summary of <keras.engine.sequential.Sequential object at 0x7f4fd52b1250>>"
            ]
          },
          "metadata": {},
          "execution_count": 10
        }
      ]
    },
    {
      "cell_type": "code",
      "metadata": {
        "id": "9bNdLFprDu2w"
      },
      "source": [
        "# compile model dengan 'adam' optimizer loss function 'binary_crossentropy' \n",
        "model.compile(loss='binary_crossentropy',\n",
        "              optimizer=tf.optimizers.Adam(),\n",
        "              metrics=['accuracy'])"
      ],
      "execution_count": 11,
      "outputs": []
    },
    {
      "cell_type": "code",
      "metadata": {
        "id": "wroPTdoqHTo-",
        "colab": {
          "base_uri": "https://localhost:8080/"
        },
        "outputId": "b22fb614-3df0-4865-c665-2a8295c49506"
      },
      "source": [
        "# latih model dengan model.fit \n",
        "model.fit(\n",
        "      train_generator,\n",
        "      steps_per_epoch=25,\n",
        "      epochs=20,\n",
        "      validation_data=validation_generator,\n",
        "      validation_steps=5,\n",
        "      verbose=2)"
      ],
      "execution_count": 12,
      "outputs": [
        {
          "output_type": "stream",
          "name": "stdout",
          "text": [
            "Epoch 1/20\n",
            "25/25 - 30s - loss: 0.7023 - accuracy: 0.5000 - val_loss: 0.6966 - val_accuracy: 0.4500 - 30s/epoch - 1s/step\n",
            "Epoch 2/20\n",
            "25/25 - 23s - loss: 0.6933 - accuracy: 0.5500 - val_loss: 0.7038 - val_accuracy: 0.3000 - 23s/epoch - 922ms/step\n",
            "Epoch 3/20\n",
            "25/25 - 153s - loss: 0.6953 - accuracy: 0.4100 - val_loss: 0.6931 - val_accuracy: 0.5000 - 153s/epoch - 6s/step\n",
            "Epoch 4/20\n",
            "25/25 - 17s - loss: 0.6937 - accuracy: 0.4900 - val_loss: 0.6934 - val_accuracy: 0.4500 - 17s/epoch - 660ms/step\n",
            "Epoch 5/20\n",
            "25/25 - 16s - loss: 0.6945 - accuracy: 0.5000 - val_loss: 0.6933 - val_accuracy: 0.5000 - 16s/epoch - 649ms/step\n",
            "Epoch 6/20\n",
            "25/25 - 15s - loss: 0.6943 - accuracy: 0.4400 - val_loss: 0.6932 - val_accuracy: 0.5000 - 15s/epoch - 617ms/step\n",
            "Epoch 7/20\n",
            "25/25 - 16s - loss: 0.6935 - accuracy: 0.4900 - val_loss: 0.6911 - val_accuracy: 0.6000 - 16s/epoch - 652ms/step\n",
            "Epoch 8/20\n",
            "25/25 - 15s - loss: 0.6934 - accuracy: 0.5100 - val_loss: 0.6917 - val_accuracy: 0.6000 - 15s/epoch - 587ms/step\n",
            "Epoch 9/20\n",
            "25/25 - 16s - loss: 0.6918 - accuracy: 0.5700 - val_loss: 0.6932 - val_accuracy: 0.5000 - 16s/epoch - 636ms/step\n",
            "Epoch 10/20\n",
            "25/25 - 15s - loss: 0.6923 - accuracy: 0.5300 - val_loss: 0.6916 - val_accuracy: 0.5500 - 15s/epoch - 609ms/step\n",
            "Epoch 11/20\n",
            "25/25 - 15s - loss: 0.6931 - accuracy: 0.5100 - val_loss: 0.6916 - val_accuracy: 0.5500 - 15s/epoch - 588ms/step\n",
            "Epoch 12/20\n",
            "25/25 - 16s - loss: 0.6922 - accuracy: 0.5400 - val_loss: 0.6803 - val_accuracy: 0.8500 - 16s/epoch - 644ms/step\n",
            "Epoch 13/20\n",
            "25/25 - 17s - loss: 0.6959 - accuracy: 0.4300 - val_loss: 0.6829 - val_accuracy: 0.8500 - 17s/epoch - 686ms/step\n",
            "Epoch 14/20\n",
            "25/25 - 17s - loss: 0.6911 - accuracy: 0.5700 - val_loss: 0.6878 - val_accuracy: 0.6500 - 17s/epoch - 667ms/step\n",
            "Epoch 15/20\n",
            "25/25 - 15s - loss: 0.6922 - accuracy: 0.5300 - val_loss: 0.6934 - val_accuracy: 0.5000 - 15s/epoch - 595ms/step\n",
            "Epoch 16/20\n",
            "25/25 - 15s - loss: 0.6917 - accuracy: 0.5400 - val_loss: 0.6889 - val_accuracy: 0.6000 - 15s/epoch - 611ms/step\n",
            "Epoch 17/20\n",
            "25/25 - 14s - loss: 0.6940 - accuracy: 0.4900 - val_loss: 0.6912 - val_accuracy: 0.5500 - 14s/epoch - 573ms/step\n",
            "Epoch 18/20\n",
            "25/25 - 14s - loss: 0.6903 - accuracy: 0.5700 - val_loss: 0.6935 - val_accuracy: 0.5000 - 14s/epoch - 577ms/step\n",
            "Epoch 19/20\n",
            "25/25 - 15s - loss: 0.6943 - accuracy: 0.4900 - val_loss: 0.6797 - val_accuracy: 0.7500 - 15s/epoch - 611ms/step\n",
            "Epoch 20/20\n",
            "25/25 - 14s - loss: 0.6933 - accuracy: 0.5100 - val_loss: 0.6794 - val_accuracy: 0.8000 - 14s/epoch - 576ms/step\n"
          ]
        },
        {
          "output_type": "execute_result",
          "data": {
            "text/plain": [
              "<keras.callbacks.History at 0x7f4fd517cfd0>"
            ]
          },
          "metadata": {},
          "execution_count": 12
        }
      ]
    }
  ]
}